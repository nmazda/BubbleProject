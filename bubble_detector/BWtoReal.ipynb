{
 "cells": [
  {
   "cell_type": "code",
   "execution_count": 1,
   "id": "ea359932-ba3a-46f0-a2a1-955afa391f8c",
   "metadata": {
    "tags": []
   },
   "outputs": [
    {
     "data": {
      "text/plain": [
       "'/device:GPU:0'"
      ]
     },
     "execution_count": 1,
     "metadata": {},
     "output_type": "execute_result"
    }
   ],
   "source": [
    "import tensorflow as tf\n",
    "from tensorflow.keras import datasets, layers, models, utils\n",
    "import matplotlib.pyplot as plt\n",
    "import numpy as np\n",
    "import pandas as pd\n",
    "tf.test.gpu_device_name()"
   ]
  },
  {
   "cell_type": "code",
   "execution_count": 6,
   "id": "ccae81dc-8e62-410d-902c-2f8dd07c741f",
   "metadata": {
    "tags": []
   },
   "outputs": [],
   "source": [
    "test_BW_directory = r'C:\\Users\\lliam\\OneDrive\\Documents\\Development\\Research\\BubbleProject\\bubble_detector\\runs\\detect_1'\n",
    "test_directory = r'C:\\Users\\lliam\\OneDrive\\Documents\\Development\\Research\\BubbleProject\\bubble_detector\\runs\\detect_2'"
   ]
  },
  {
   "cell_type": "code",
   "execution_count": 8,
   "id": "1d8c3e4b-d937-431d-9a68-ee2bc4a57703",
   "metadata": {
    "tags": []
   },
   "outputs": [],
   "source": [
    "from keras.preprocessing.image import ImageDataGenerator\n",
    "train_datagen = ImageDataGenerator(rescale=1./255)"
   ]
  },
  {
   "cell_type": "code",
   "execution_count": 11,
   "id": "5e304174-b248-41ec-9efb-18e96cdf1891",
   "metadata": {
    "tags": []
   },
   "outputs": [
    {
     "name": "stdout",
     "output_type": "stream",
     "text": [
      "Found 0 images belonging to 0 classes.\n"
     ]
    }
   ],
   "source": [
    "train_generator = train_datagen.flow_from_directory(\n",
    "test_BW_directory, \n",
    "target_size=(1024,1024), \n",
    "color_mode='grayscale', \n",
    "batch_size=64, \n",
    "subset='training',\n",
    "shuffle=True,\n",
    "seed=42\n",
    ")"
   ]
  },
  {
   "cell_type": "code",
   "execution_count": null,
   "id": "bbe1d11b-d9f2-4604-9027-17901ad23f73",
   "metadata": {},
   "outputs": [],
   "source": []
  }
 ],
 "metadata": {
  "kernelspec": {
   "display_name": "Python (GPU)",
   "language": "python",
   "name": "gpu_env"
  },
  "language_info": {
   "codemirror_mode": {
    "name": "ipython",
    "version": 3
   },
   "file_extension": ".py",
   "mimetype": "text/x-python",
   "name": "python",
   "nbconvert_exporter": "python",
   "pygments_lexer": "ipython3",
   "version": "3.9.18"
  }
 },
 "nbformat": 4,
 "nbformat_minor": 5
}
